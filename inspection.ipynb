{
 "cells": [
  {
   "cell_type": "code",
   "execution_count": 1,
   "metadata": {},
   "outputs": [
    {
     "name": "stderr",
     "output_type": "stream",
     "text": [
      "/home/joeldapello/anaconda3/lib/python3.6/site-packages/h5py/__init__.py:36: FutureWarning: Conversion of the second argument of issubdtype from `float` to `np.floating` is deprecated. In future, it will be treated as `np.float64 == np.dtype(float).type`.\n",
      "  from ._conv import register_converters as _register_converters\n"
     ]
    }
   ],
   "source": [
    "import h5py as h5\n",
    "import numpy as np"
   ]
  },
  {
   "cell_type": "code",
   "execution_count": 9,
   "metadata": {},
   "outputs": [
    {
     "data": {
      "text/plain": [
       "['classifier_0_Dropout(p=0.5)',\n",
       " 'classifier_1_Linear(in_features=512, out_features=512, bias=True)',\n",
       " 'classifier_3_Dropout(p=0.5)',\n",
       " 'classifier_4_Linear(in_features=512, out_features=512, bias=True)',\n",
       " 'classifier_6_Linear(in_features=512, out_features=10, bias=True)',\n",
       " 'features_0_Conv2d(3, 64, kernel_size=(3, 3), stride=(1, 1), padding=(1, 1))',\n",
       " 'features_10_MaxPool2d(kernel_size=2, stride=2, padding=0, dilation=1, ceil_mode=False)',\n",
       " 'features_11_Conv2d(256, 512, kernel_size=(3, 3), stride=(1, 1), padding=(1, 1))',\n",
       " 'features_13_Conv2d(512, 512, kernel_size=(3, 3), stride=(1, 1), padding=(1, 1))',\n",
       " 'features_15_MaxPool2d(kernel_size=2, stride=2, padding=0, dilation=1, ceil_mode=False)',\n",
       " 'features_16_Conv2d(512, 512, kernel_size=(3, 3), stride=(1, 1), padding=(1, 1))',\n",
       " 'features_18_Conv2d(512, 512, kernel_size=(3, 3), stride=(1, 1), padding=(1, 1))',\n",
       " 'features_20_MaxPool2d(kernel_size=2, stride=2, padding=0, dilation=1, ceil_mode=False)',\n",
       " 'features_2_MaxPool2d(kernel_size=2, stride=2, padding=0, dilation=1, ceil_mode=False)',\n",
       " 'features_3_Conv2d(64, 128, kernel_size=(3, 3), stride=(1, 1), padding=(1, 1))',\n",
       " 'features_5_MaxPool2d(kernel_size=2, stride=2, padding=0, dilation=1, ceil_mode=False)',\n",
       " 'features_6_Conv2d(128, 256, kernel_size=(3, 3), stride=(1, 1), padding=(1, 1))',\n",
       " 'features_8_Conv2d(256, 256, kernel_size=(3, 3), stride=(1, 1), padding=(1, 1))',\n",
       " 'inputs',\n",
       " 'labels']"
      ]
     },
     "execution_count": 9,
     "metadata": {},
     "output_type": "execute_result"
    }
   ],
   "source": [
    "f = h5.File('feature_vgg11/train_20_.h5', 'r')\n",
    "list(f.keys())"
   ]
  },
  {
   "cell_type": "code",
   "execution_count": 10,
   "metadata": {},
   "outputs": [],
   "source": [
    "conv1 = f['features_0_Conv2d(3, 64, kernel_size=(3, 3), stride=(1, 1), padding=(1, 1))']"
   ]
  },
  {
   "cell_type": "code",
   "execution_count": 11,
   "metadata": {},
   "outputs": [
    {
     "data": {
      "text/plain": [
       "(20, 128, 64, 32, 32)"
      ]
     },
     "execution_count": 11,
     "metadata": {},
     "output_type": "execute_result"
    }
   ],
   "source": [
    "conv1.shape"
   ]
  },
  {
   "cell_type": "code",
   "execution_count": 16,
   "metadata": {},
   "outputs": [
    {
     "data": {
      "text/plain": [
       "(array([252, 265, 226, 260, 250, 252, 269, 283, 246, 257]),\n",
       " array([0. , 0.9, 1.8, 2.7, 3.6, 4.5, 5.4, 6.3, 7.2, 8.1, 9. ]))"
      ]
     },
     "execution_count": 16,
     "metadata": {},
     "output_type": "execute_result"
    }
   ],
   "source": [
    "labels = np.array(f['labels'])\n",
    "np.histogram(labels.flatten())"
   ]
  },
  {
   "cell_type": "code",
   "execution_count": null,
   "metadata": {},
   "outputs": [],
   "source": []
  }
 ],
 "metadata": {
  "kernelspec": {
   "display_name": "Python 3",
   "language": "python",
   "name": "python3"
  },
  "language_info": {
   "codemirror_mode": {
    "name": "ipython",
    "version": 3
   },
   "file_extension": ".py",
   "mimetype": "text/x-python",
   "name": "python",
   "nbconvert_exporter": "python",
   "pygments_lexer": "ipython3",
   "version": "3.6.5"
  }
 },
 "nbformat": 4,
 "nbformat_minor": 2
}
